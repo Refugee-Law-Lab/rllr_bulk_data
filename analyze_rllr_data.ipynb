{
 "cells": [
  {
   "attachments": {},
   "cell_type": "markdown",
   "metadata": {},
   "source": [
    "## Notebook to load and analyze Refugee Law Lab Reporter data\n",
    "\n",
    "Requirements\n",
    "\n",
    "    pip install pandas\n",
    "\n",
    "(produced with Python 3.9.12)"
   ]
  },
  {
   "cell_type": "code",
   "execution_count": 1,
   "metadata": {},
   "outputs": [],
   "source": [
    "# import libraries\n",
    "import pandas as pd\n",
    "import json\n",
    "import pathlib\n",
    "import requests\n",
    "\n",
    "# Set variables\n",
    "start_year = 2019  # First year of data sought (2019 +)\n",
    "end_year = 2022  # Last year of data sought (2022 -)\n",
    "\n"
   ]
  },
  {
   "cell_type": "markdown",
   "metadata": {},
   "source": [
    "## Load Data\n",
    "\n",
    "#### Four options: Local (json & parquet) & Remote (json & parquet)"
   ]
  },
  {
   "cell_type": "code",
   "execution_count": 4,
   "metadata": {},
   "outputs": [],
   "source": [
    "# OPTION 1: Load parquet data locally via cloned repo\n",
    "# note: need to pip install pyarrow\n",
    "\n",
    "# First, clone git repo\n",
    "# Then run this code to load data\n",
    "\n",
    "df = pd.read_parquet('DATA/rllr_cases.parquet')\n",
    "\n",
    "# (if code fails, add engine='pyarrow' to read_parquet() function)"
   ]
  },
  {
   "cell_type": "code",
   "execution_count": 3,
   "metadata": {},
   "outputs": [],
   "source": [
    "# OPTION 2: Load JSON data locally via cloned repo\n",
    "\n",
    "# First, clone git repo\n",
    "# Then run this code to load data\n",
    "\n",
    "# Set path to data\n",
    "data_path = pathlib.Path('DATA/YEARLY/')\n",
    "\n",
    "# load data\n",
    "results = []\n",
    "for year in range(start_year, end_year+1):\n",
    "    with open(data_path / f'{year}.json') as f:\n",
    "        results.extend(json.load(f))\n",
    "\n",
    "# convert to dataframe\n",
    "df = pd.DataFrame(results)"
   ]
  },
  {
   "cell_type": "code",
   "execution_count": null,
   "metadata": {},
   "outputs": [],
   "source": [
    "# OPTION 3: Load parquet data remotely from GitHub without cloning repo\n",
    "\n",
    "url = 'https://raw.githubusercontent.com/Refugee-Law-Lab/rllr/master/DATA/rllr_cases.parquet'\n",
    "\n",
    "# load data\n",
    "results = requests.get(url)\n",
    "\n",
    "# convert to dataframe\n",
    "df = pd.read_parquet(results.content)\n",
    "\n",
    "# (if code fails, add engine='pyarrow' to read_parquet() function)"
   ]
  },
  {
   "cell_type": "code",
   "execution_count": null,
   "metadata": {},
   "outputs": [],
   "source": [
    "# OPTION 4: Load json data remotely from GitHub without cloning repo\n",
    "\n",
    "base_ulr = 'https://raw.githubusercontent.com/Refugee-Law-Lab/rllr/master/DATA/YEARLY/'\n",
    "\n",
    "# load data\n",
    "results = []\n",
    "for year in range(start_year, end_year+1):\n",
    "        url = base_ulr + f'{year}.json'\n",
    "        results.extend(requests.get(url).json())\n",
    "\n",
    "# convert to dataframe\n",
    "df = pd.DataFrame(results)"
   ]
  },
  {
   "cell_type": "code",
   "execution_count": null,
   "metadata": {},
   "outputs": [],
   "source": [
    "df"
   ]
  }
 ],
 "metadata": {
  "kernelspec": {
   "display_name": "venv",
   "language": "python",
   "name": "python3"
  },
  "language_info": {
   "codemirror_mode": {
    "name": "ipython",
    "version": 3
   },
   "file_extension": ".py",
   "mimetype": "text/x-python",
   "name": "python",
   "nbconvert_exporter": "python",
   "pygments_lexer": "ipython3",
   "version": "3.9.12"
  },
  "orig_nbformat": 4
 },
 "nbformat": 4,
 "nbformat_minor": 2
}
